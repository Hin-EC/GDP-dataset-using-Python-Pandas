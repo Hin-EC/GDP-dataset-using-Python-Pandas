{
 "cells": [
  {
   "cell_type": "code",
   "execution_count": null,
   "id": "57d1d501-cc4d-47f6-a636-225d109dd346",
   "metadata": {},
   "outputs": [],
   "source": [
    "import pandas as pd\n",
    "import numpy as np\n",
    "# explore a dataset, remove duplicated row, filter the data in given conditions\n",
    "# replace the 0 with mean without zero"
   ]
  },
  {
   "cell_type": "code",
   "execution_count": null,
   "id": "35d3a129-fc6a-4c48-ba79-b78721163128",
   "metadata": {},
   "outputs": [],
   "source": [
    "#read the CSV and put the first column to be index\n",
    "df = pd.read_csv(\"GDP (nominal) per Capita.csv\", index_col=0)"
   ]
  },
  {
   "cell_type": "code",
   "execution_count": null,
   "id": "95424aaf-d8dc-4e9d-97f7-2899e45ed334",
   "metadata": {},
   "outputs": [],
   "source": [
    "# show the dataframe\n",
    "print(df)"
   ]
  },
  {
   "cell_type": "code",
   "execution_count": null,
   "id": "c362f5f1-7c36-4bf4-aa31-236b15995e05",
   "metadata": {},
   "outputs": [],
   "source": [
    "# show whole dataframe\n",
    "print(df.to_string())\n"
   ]
  },
  {
   "cell_type": "code",
   "execution_count": null,
   "id": "90c82383-d6e9-47ee-af6f-791915820edb",
   "metadata": {},
   "outputs": [],
   "source": [
    "# show datafram information\n",
    "print(df.info()) "
   ]
  },
  {
   "cell_type": "code",
   "execution_count": null,
   "id": "bf46e978-2d7b-4ba9-8961-5054fad38e4e",
   "metadata": {},
   "outputs": [],
   "source": [
    "# show top 10 rows\n",
    "print(df.head(10)) "
   ]
  },
  {
   "cell_type": "code",
   "execution_count": null,
   "id": "30659f21-2648-469c-ab52-e1b7350758c1",
   "metadata": {},
   "outputs": [],
   "source": [
    "# show top 5 rows\n",
    "print(df.head(5)) "
   ]
  },
  {
   "cell_type": "code",
   "execution_count": null,
   "id": "3de2bf50-9f0b-4fc6-a0de-bd8d9b03c426",
   "metadata": {},
   "outputs": [],
   "source": [
    "# remove duplicated value and reset index\n",
    "distinct_values = df[\"UN_Region\"].drop_duplicates().reset_index(drop=True)\n",
    "print(distinct_values)"
   ]
  },
  {
   "cell_type": "code",
   "execution_count": null,
   "id": "6d91b66c-e3dd-40ac-b108-f6967e95e80d",
   "metadata": {},
   "outputs": [],
   "source": [
    "# get the coulmns name in list array\n",
    "print(df.columns.tolist())"
   ]
  },
  {
   "cell_type": "code",
   "execution_count": null,
   "id": "cd2727d8-1473-49ca-a6ea-aab9b5ccd647",
   "metadata": {},
   "outputs": [],
   "source": [
    "# COUNT(DISTINCT)\n",
    "distinctcount = df[\"UN_Region\"].nunique()\n",
    "print(\"count: \", distinctcount)\n"
   ]
  },
  {
   "cell_type": "code",
   "execution_count": null,
   "id": "d9631d1b-3dac-44a1-b0af-8c960a0272db",
   "metadata": {},
   "outputs": [],
   "source": [
    "# number of countries per region\n",
    "\n",
    "result= df.groupby(\"UN_Region\")[\"IMF_Year\"].count().reset_index()\n",
    "print(result)\n",
    "\n"
   ]
  },
  {
   "cell_type": "code",
   "execution_count": null,
   "id": "f5de5bf8-7828-4bef-a9b9-ad2ee48f3ae8",
   "metadata": {},
   "outputs": [],
   "source": [
    "# find out the row is European Union[n 1]\n",
    "condition= df[\"Country/Territory\"] == \"European Union[n 1]\"\n",
    "result = df[condition]\n",
    "print(result)"
   ]
  },
  {
   "cell_type": "code",
   "execution_count": null,
   "id": "b503a7bc-1ddf-4ccf-bde4-0e839481b8d2",
   "metadata": {},
   "outputs": [],
   "source": []
  },
  {
   "cell_type": "code",
   "execution_count": null,
   "id": "640e08be-37b8-4dd1-a01f-a6adbd145bfd",
   "metadata": {},
   "outputs": [],
   "source": [
    "\"\"\" IMF estimate 0 values\"\"\"\n",
    "condition = (df[\"IMF_Estimate\"] == 0 )\n",
    "result = df[condition]\n",
    "print(result[[\"Country/Territory\",\"IMF_Estimate\"]].to_string())\n"
   ]
  },
  {
   "cell_type": "code",
   "execution_count": null,
   "id": "dfe92cb2-72bf-4ccf-9a0f-dcd30818041a",
   "metadata": {},
   "outputs": [],
   "source": []
  },
  {
   "cell_type": "code",
   "execution_count": null,
   "id": "ef0627f3-82c7-4554-ab8f-fee0706f40f5",
   "metadata": {},
   "outputs": [],
   "source": [
    "# clear the data and find the mean without 0\n",
    "df[\"IMF_Estimate\"] = df[\"IMF_Estimate\"].replace(0, np.nan)\n",
    "df[\"WorldBank_Estimate\"] = df[\"WorldBank_Estimate\"].replace(0, np.nan)\n",
    "df[\"UN_Estimate\"] = df[\"UN_Estimate\"].replace(0, np.nan)\n",
    "\n",
    "AvgIMFGDP = df[\"IMF_Estimate\"].mean()\n",
    "AvgWorldBankGDP = df[\"WorldBank_Estimate\"].mean()\n",
    "AvgUNGDP = df[\"UN_Estimate\"].mean()\n",
    "\n",
    "print(AvgIMFGDP, AvgWorldBankGDP , AvgUNGDP)"
   ]
  },
  {
   "cell_type": "code",
   "execution_count": null,
   "id": "93d2aa2d-c6b5-47f6-a9d6-dbd2a3c57b5d",
   "metadata": {},
   "outputs": [],
   "source": []
  },
  {
   "cell_type": "code",
   "execution_count": null,
   "id": "399966ea-6055-4455-b7ae-63dfdb330f5a",
   "metadata": {},
   "outputs": [],
   "source": [
    "\n",
    "\"\"\" Which countries in Europe has higher GDP than UK?\"\"\"\n",
    "\n",
    "condition = (df[\"UN_Region\"] == \"Europe\") & (df[\"IMF_Estimate\"] >= AvgIMFGDP)\n",
    "result = df[condition]\n",
    "print(result)\n"
   ]
  },
  {
   "cell_type": "code",
   "execution_count": null,
   "id": "633d9db5-66a5-4e29-a893-be4af7aab123",
   "metadata": {},
   "outputs": [],
   "source": [
    "\"\"\" Which countries below average by IMF world estimate?\"\"\"\n",
    "\n",
    "condition = (df[\"IMF_Estimate\"] <= AvgIMFGDP)\n",
    "result = df[condition3]\n",
    "print(f\"IMF_Estimate average is {AvgIMFGDP}\\n\")\n",
    "print(result[[\"Country/Territory\",\"IMF_Estimate\"]].to_string())"
   ]
  },
  {
   "cell_type": "code",
   "execution_count": null,
   "id": "16d8bfc9-124c-45d6-b240-7c832d8dc07c",
   "metadata": {},
   "outputs": [],
   "source": [
    "\n",
    "\"\"\" Which country has highest UN Estimate?\"\"\"\n",
    "condition = (df['UN_Estimate'] == df['UN_Estimate'].max())\n",
    "\n",
    "result = df[condition]\n",
    "print(df['UN_Estimate'].max())\n",
    "print(result)"
   ]
  },
  {
   "cell_type": "code",
   "execution_count": null,
   "id": "44a86ef6-7e34-4c88-8508-313b8026330f",
   "metadata": {},
   "outputs": [],
   "source": [
    "\n",
    "\"\"\" Which country has highest Worlbank Estimate?\"\"\"\n",
    "condition = (df['WorldBank_Estimate'] == df['WorldBank_Estimate'].max())\n",
    "\n",
    "result = df[condition]\n",
    "print(df['WorldBank_Estimate'].max())\n",
    "print(result)\n"
   ]
  },
  {
   "cell_type": "code",
   "execution_count": null,
   "id": "8bcea254-1b3f-42aa-8f2f-cb69ce360abf",
   "metadata": {},
   "outputs": [],
   "source": [
    "\"\"\" Which country has highest IMF Estimate?\"\"\"\n",
    "condition = (df['IMF_Estimate'] == df['IMF_Estimate'].max())\n",
    "\n",
    "result = df[condition]\n",
    "print(df['IMF_Estimate'].max())\n",
    "print(result)\n",
    "\n"
   ]
  },
  {
   "cell_type": "code",
   "execution_count": null,
   "id": "78acb24b-2524-443e-9346-ec1b755d778a",
   "metadata": {},
   "outputs": [],
   "source": []
  },
  {
   "cell_type": "code",
   "execution_count": null,
   "id": "98107ead-ce5e-4a04-b8b9-a9669f59aa46",
   "metadata": {},
   "outputs": [],
   "source": [
    "\"\"\" Filling 0 Values by average\"\"\"\n",
    "df[\"IMF_Estimate\"] = df[\"IMF_Estimate\"].replace(0, np.nan)\n",
    "df[\"WorldBank_Estimate\"] = df[\"WorldBank_Estimate\"].replace(0, np.nan)\n",
    "df[\"UN_Estimate\"] = df[\"UN_Estimate\"].replace(0, np.nan)"
   ]
  },
  {
   "cell_type": "code",
   "execution_count": null,
   "id": "9efaa3e9-36db-4a70-831c-f2115fdcdc45",
   "metadata": {},
   "outputs": [],
   "source": [
    "# Calculate the average of 'Worldbank_Estimate' and 'UN_Estimate' columns"
   ]
  },
  {
   "cell_type": "code",
   "execution_count": null,
   "id": "2748d4f4-91f8-42c6-9f11-8b2f6336fe00",
   "metadata": {},
   "outputs": [],
   "source": [
    "AvgIMFGDP = df[\"IMF_Estimate\"].mean()\n",
    "AvgWorldBankGDP = df[\"WorldBank_Estimate\"].mean()\n",
    "AvgUNGDP = df[\"UN_Estimate\"].mean()"
   ]
  },
  {
   "cell_type": "code",
   "execution_count": null,
   "id": "bf9f3f6c-2de2-409b-ab6f-ff7495488fe6",
   "metadata": {},
   "outputs": [],
   "source": [
    "# Fill the null values in 'imf' column with the calculated average\n",
    "print(df.info())\n",
    "df[\"IMF_Estimate\"] = df[\"IMF_Estimate\"].fillna(AvgIMFGDP)\n",
    "print(df.info())\n",
    "\n"
   ]
  },
  {
   "cell_type": "code",
   "execution_count": null,
   "id": "bfe364f1-b410-4f90-9ca9-e359d3f022bf",
   "metadata": {},
   "outputs": [],
   "source": [
    "#Fill the null values in 'WorldBank' and 'UN' column with the calculated average\n",
    "df[\"UN_Estimate\"] = df[\"WorldBank_Estimate\"].fillna(AvgWorldBankGDP)\n",
    "print(df.info())\n",
    "\n",
    "df[\"WorldBank_Estimate\"] = df[\"UN_Estimate\"].fillna(AvgUNGDP)\n",
    "print(df.info())"
   ]
  },
  {
   "cell_type": "code",
   "execution_count": null,
   "id": "7d21dda4-120f-4fa1-87b6-8bfc3feb42dc",
   "metadata": {},
   "outputs": [],
   "source": []
  }
 ],
 "metadata": {
  "kernelspec": {
   "display_name": "Python 3 (ipykernel)",
   "language": "python",
   "name": "python3"
  },
  "language_info": {
   "codemirror_mode": {
    "name": "ipython",
    "version": 3
   },
   "file_extension": ".py",
   "mimetype": "text/x-python",
   "name": "python",
   "nbconvert_exporter": "python",
   "pygments_lexer": "ipython3",
   "version": "3.13.2"
  }
 },
 "nbformat": 4,
 "nbformat_minor": 5
}
